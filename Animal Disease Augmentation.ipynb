{
  "nbformat": 4,
  "nbformat_minor": 0,
  "metadata": {
    "colab": {
      "provenance": []
    },
    "kernelspec": {
      "name": "python3",
      "display_name": "Python 3"
    },
    "language_info": {
      "name": "python"
    },
    "accelerator": "GPU",
    "gpuClass": "standard"
  },
  "cells": [
    {
      "cell_type": "code",
      "execution_count": null,
      "metadata": {
        "id": "AHhbl6-953ym"
      },
      "outputs": [],
      "source": [
        "import cv2\n",
        "from google.colab.patches import cv2_imshow\n",
        "import numpy as np\n",
        "import os"
      ]
    },
    {
      "cell_type": "code",
      "source": [
        "from google.colab import drive\n",
        "drive.mount('/content/drive')"
      ],
      "metadata": {
        "id": "C8Ugdvxkgt3o",
        "colab": {
          "base_uri": "https://localhost:8080/"
        },
        "outputId": "97c3f606-6352-48f7-82b3-97e5a1d85989"
      },
      "execution_count": null,
      "outputs": [
        {
          "output_type": "stream",
          "name": "stdout",
          "text": [
            "Mounted at /content/drive\n"
          ]
        }
      ]
    },
    {
      "cell_type": "code",
      "source": [
        "image_1 = cv2.imread(\"/content/drive/MyDrive/Datasets/original/disease_test/SORES/IMG10.jpg\")\n",
        "\n",
        "print(image_1.shape)\n",
        "\n",
        "cv2_imshow(image_1)"
      ],
      "metadata": {
        "id": "qRfwwRRTgmGV"
      },
      "execution_count": null,
      "outputs": []
    },
    {
      "cell_type": "code",
      "source": [
        "def crop_resize(img):\n",
        "  image_1_resize = cv2.resize(img,(128,128))\n",
        "  return image_1_resize"
      ],
      "metadata": {
        "id": "iwXnYaPCYxEj"
      },
      "execution_count": null,
      "outputs": []
    },
    {
      "cell_type": "code",
      "source": [
        "def convert_bw(img):\n",
        "  image_1_b_w = cv2.cvtColor(img, cv2.COLOR_BGR2GRAY )\n",
        "  return image_1_b_w\n"
      ],
      "metadata": {
        "id": "-wtg7nS2ZXG4"
      },
      "execution_count": null,
      "outputs": []
    },
    {
      "cell_type": "code",
      "source": [
        "def rotate_image(image, angle):\n",
        "  image_center = tuple(np.array(image.shape[1::-1]) / 2)\n",
        "  rot_mat = cv2.getRotationMatrix2D(image_center, angle, 0.5)\n",
        "  result = cv2.warpAffine(image, rot_mat, image.shape[1::-1], flags=cv2.INTER_LINEAR)\n",
        "  return result\n"
      ],
      "metadata": {
        "id": "1cTwoPBBZXez"
      },
      "execution_count": null,
      "outputs": []
    },
    {
      "cell_type": "code",
      "source": [
        "def flip_img(img):\n",
        "  image_1_flip = cv2.flip(img,0)\n",
        "  return image_1_flip"
      ],
      "metadata": {
        "id": "pX_rca5YZZzz"
      },
      "execution_count": null,
      "outputs": []
    },
    {
      "cell_type": "code",
      "source": [
        "frame_dir = \"/content/drive/MyDrive/Datasets/original/disease_test/SORES\"\n",
        "\n",
        "frame_dir_lst = os.listdir(frame_dir)\n",
        "\n",
        "frame_dir_lst.sort()\n",
        "\n",
        "output_dir = \"/content/drive/MyDrive/Datasets/resized/test/SORES\"\n",
        "\n",
        "if not os.path.exists(output_dir):\n",
        "  os.mkdir(output_dir)\n",
        "\n",
        "for image_nm in frame_dir_lst:\n",
        "  img = cv2.imread(os.path.join(frame_dir,image_nm))\n",
        "  img1 = crop_resize(img)\n",
        "  cv2.imwrite(os.path.join(output_dir,image_nm),img1)"
      ],
      "metadata": {
        "id": "paKdviyEZeHm"
      },
      "execution_count": null,
      "outputs": []
    },
    {
      "cell_type": "code",
      "source": [
        "frame_dir = \"/content/drive/MyDrive/Datasets/resized/test/SORES\"\n",
        "\n",
        "frame_dir_lst = os.listdir(frame_dir)\n",
        "\n",
        "frame_dir_lst.sort()\n",
        "\n",
        "output_dir = \"/content/drive/MyDrive/Datasets/black_white/test/SORES\"\n",
        "\n",
        "if not os.path.exists(output_dir):\n",
        "  os.mkdir(output_dir)\n",
        "\n",
        "for image_nm in frame_dir_lst:\n",
        "  img = cv2.imread(os.path.join(frame_dir,image_nm))\n",
        "  img1 = convert_bw(img)\n",
        "  cv2.imwrite(os.path.join(output_dir,image_nm),img1)"
      ],
      "metadata": {
        "id": "aDYwqmYaZxJ0"
      },
      "execution_count": null,
      "outputs": []
    },
    {
      "cell_type": "code",
      "source": [
        "frame_dir = \"/content/drive/MyDrive/Datasets/DATASET/final/test/flip/SORES\"\n",
        "output_dir_1 = \"/content/drive/MyDrive/Datasets/DATASET/more augmentation/test/SORES\"\n",
        "output_dir_2 = \"/content/drive/MyDrive/Datasets/DATASET/more augmentation/test/SORES\"\n",
        "frame_dir_lst = os.listdir(frame_dir)\n",
        "\n",
        "if not os.path.exists(output_dir_1):\n",
        "  os.mkdir(output_dir_1)\n",
        "\n",
        "if not os.path.exists(output_dir_2):\n",
        "  os.mkdir(output_dir_2)\n",
        "i=0\n",
        "for image_nm in frame_dir_lst:\n",
        "  img = cv2.imread(os.path.join(frame_dir,image_nm))\n",
        "  img1 = rotate_image(img,45)\n",
        "  cv2.imwrite(os.path.join(output_dir_1,image_nm),img1)\n",
        "  img2 = flip_img(img)\n",
        "  cv2.imwrite(os.path.join(output_dir_2,image_nm),img2)"
      ],
      "metadata": {
        "id": "Z1sQde97bwhm"
      },
      "execution_count": null,
      "outputs": []
    },
    {
      "cell_type": "code",
      "source": [],
      "metadata": {
        "id": "o913ZfA6dllk"
      },
      "execution_count": null,
      "outputs": []
    }
  ]
}